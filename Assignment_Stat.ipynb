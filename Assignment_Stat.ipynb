{
 "cells": [
  {
   "cell_type": "code",
   "execution_count": null,
   "id": "1187cb0b-55f2-49c7-a5fa-91a23a163ce5",
   "metadata": {},
   "outputs": [],
   "source": [
    "# Q-1 What is statistics\n",
    "'''Statistics is a branch of mathematics that involves \n",
    "collecting, analyzing, interpreting, presenting, and organizing data'''"
   ]
  },
  {
   "cell_type": "code",
   "execution_count": null,
   "id": "cd87e98f-23cc-4290-a596-db2dafe9d061",
   "metadata": {},
   "outputs": [],
   "source": [
    "# Q2. Define the different types of statistics and give an example of when each type might be used.\n",
    "'''Two Types Of statistics are there 1st->Descriptive Statistics 2nd->inferantial Statistics\n",
    "inferantial is used for ex.-> when we have to find some data from a huge data as average hight of students in a School\n",
    "Descriptive is used for ex.-> When we have to calculate the avg height from a classroom '''"
   ]
  },
  {
   "cell_type": "code",
   "execution_count": null,
   "id": "548031a8-0eb6-4619-b53f-5cd60e3563f0",
   "metadata": {},
   "outputs": [],
   "source": [
    "# What are the different types of data and how do they differ from each other? Provide an example of each type of data.\n",
    "''' (1) -> Quantitative Data (Numerical data) ->  it has numerical type values in it \n",
    "          1st -> Discrete Data -> It gives whole number of data you want. For ex, Students in a class\n",
    "          2nd -> Continuous Data -> It gives all the random values from you ask . For Ex, Temperature Of The Day\n",
    "    (2) -> Qualitive Data (Categorical Data) -> it has all the Cstegorical values in it \n",
    "          1st -> Nominal Scale -> It stores the value as no inherent order or ranking. for Ex, male or female , Blood group \n",
    "          2nd -> Ordinal Scale -> It stores the value in any specific order/rank. For ex, Customer Feedback,\n",
    "'''"
   ]
  },
  {
   "cell_type": "code",
   "execution_count": null,
   "id": "834a645d-f63a-4b29-b6bf-4d184c6881ee",
   "metadata": {},
   "outputs": [],
   "source": [
    "'''\n",
    "Q4. Categorise the following datasets with respect to quantitative and qualitative data types:\n",
    "(i) Grading in exam: A+, A, B+, B, C+, C, D, E -> Qualititve(Ordinal)\n",
    "(ii) Colour of mangoes: yellow, green, orange, red -> Qualtitive(Nominal)\n",
    "(iii) Height data of a class: [178.9, 179, 179.5, 176, 177.2, 178.3, 175.8,...] -> Quantitative(Continous)\n",
    "(iv) Number of mangoes exported by a farm: [500, 600, 478, 672, ...] -> Quantitative(discrete)\n",
    "'''"
   ]
  },
  {
   "cell_type": "code",
   "execution_count": null,
   "id": "9fc6fc2b-96bd-472a-a0ab-9e19b8bb8364",
   "metadata": {},
   "outputs": [],
   "source": [
    "# Q5-Explain the concept of levels of measurement and give an example of a variable for each level."
   ]
  },
  {
   "cell_type": "code",
   "execution_count": null,
   "id": "c540298c-2089-462f-9ee2-e02f8fa1bd26",
   "metadata": {},
   "outputs": [],
   "source": [
    "''' 4 Types of scales are there \n",
    "    1->Nominal Scale -> Stores Qualitive Data (Gender,Colors etc.)\n",
    "    \n",
    "    2->Ordinal Scale -> Stores Qualitive Data with Order is Compulsory (for Ex,Customer Feedback) \n",
    "    \n",
    "    3->Interval Scale -> : Categories with a meaningful order and precisely measurable differences,\n",
    "                           but there is no true zero point.(For Ex, ->While you can say that 20°C is warmer than 10°C,\n",
    "                           the absence of temperature (0°C) does not mean there is no heat.)\n",
    "    \n",
    "    4->Ratio Scale ->Categories with a meaningful order, precisely measurable differences,\n",
    "                      and a true zero point, indicating the absence of the measured quantity\n",
    "                      (for Ex,Height in centimeters. A height of 0 cm indicates the absence of height,\n",
    "                      and ratios like 180 cm is twice as tall as 90 cm.)\n",
    "                      "
   ]
  },
  {
   "cell_type": "code",
   "execution_count": null,
   "id": "fefb4dfb-2295-4574-8287-9e18c23e31b0",
   "metadata": {},
   "outputs": [],
   "source": [
    "# Why is it important to understand the level of measurement when analyzing data? Provide an example to illustrate your answer.\n",
    "'''\n",
    "Understanding the level of measurement is crucial in statistical analysis because it determines\n",
    "the types of statistical analyses that can be appropriately applied to the data.\n",
    "\n",
    "Let's consider a scenario where we have data on students performance in a course, and we want to analyze the data using different statistical measures:\n",
    "\n",
    "(1) Nominal Level (e.g., Gender):\n",
    "We can use frequency distributions and calculate percentages for each category.\n",
    "Example: We can determine the percentage of male and female students in the course.\n",
    "\n",
    "(2) Ordinal Level (e.g., Course Grades: A, B, C):\n",
    "We can use measures like median and mode, which are appropriate for ranked data.\n",
    "Example: We can find the median grade to understand the central tendency of the class's performance.\n",
    "\n",
    "(3) Interval Level (e.g., Temperature in Celsius):\n",
    "We can use measures like mean and standard deviation, which require precise numerical differences.\n",
    "Example: We can calculate the average score on a standardized test.\n",
    "\n",
    "(4) Ratio Level (e.g., Height in centimeters):\n",
    "We can use all statistical measures, including ratios and proportions.\n",
    "Example: We can calculate the ratio of students' heights to a reference height.\n",
    "'''"
   ]
  },
  {
   "cell_type": "code",
   "execution_count": null,
   "id": "60efc449-e8d0-4d54-ac67-6a6e2e859bb6",
   "metadata": {},
   "outputs": [],
   "source": [
    "# Q7. How nominal data type is different from ordinal data type\n",
    "'''\n",
    "Nominal and ordinal data types are both forms of categorical data, but they \n",
    "differ in the nature of the relationships between the categories.\n",
    "\n",
    "Nominal Data:\n",
    "\n",
    "--> Nominal data consists of categories or labels that have no inherent order or ranking.\n",
    "--> The categories are distinct and do not imply any quantitative relationships between them.\n",
    "\n",
    "Ordinal Data:\n",
    "\n",
    "--> Ordinal data also consists of categories, but these categories have a meaningful order or ranking.\n",
    "--> While the order is meaningful, the intervals between categories are not necessarily equal or precisely measurable.\n",
    "'''"
   ]
  },
  {
   "cell_type": "code",
   "execution_count": null,
   "id": "54c70912-3eb2-4bc4-b903-4d580a5ddfd0",
   "metadata": {},
   "outputs": [],
   "source": [
    "# Q8 Which type of plot can be used to display data in terms of range?\n",
    "# Box Plot is Used to display data in terms of range"
   ]
  },
  {
   "cell_type": "code",
   "execution_count": null,
   "id": "48aa225a-fd46-46e1-9116-7df5e0fb94c5",
   "metadata": {},
   "outputs": [],
   "source": [
    "'''\n",
    "Q9.Describe the difference between descriptive and inferential statistics. Give an example of each\n",
    "type of statistics and explain how they are used.\n",
    "\n",
    "'''\n",
    "\n",
    "'''\n",
    "Descriptive Statistics:\n",
    "\n",
    "Definition: Descriptive statistics involve methods for summarizing and describing the main features of a dataset. \n",
    "            These methods provide a way to organize and simplify large amounts of data to make it more understandable.\n",
    "Example: Calculating the mean (average), median, mode, range, and standard deviation of a set of exam scores for a class.\n",
    "\n",
    "\n",
    "Inferential Statistics:\n",
    "\n",
    "Definition: Inferential statistics involve drawing conclusions and making predictions about a population based on a sample of data taken from that population. \n",
    "            It extends the findings from a sample to the larger population from which the sample was drawn.\n",
    "Example: Conducting a hypothesis test to determine if the average exam score of a sample is significantly different from the population mean.\n",
    "\n",
    "\n",
    "\n",
    "\n",
    "Comparison:\n",
    "\n",
    "Descriptive statistics focus on summarizing and presenting the main features of a dataset.\n",
    "Inferential statistics involve drawing conclusions and making predictions about a population based on a sample.\n",
    "\n",
    "'''"
   ]
  },
  {
   "cell_type": "code",
   "execution_count": null,
   "id": "63c461c2-d48f-4e26-be99-87e9b61fe7d6",
   "metadata": {},
   "outputs": [],
   "source": [
    "# Q10.What are some common measures of central tendency and variability used in statistics? Explain how each measure can be used to describe a dataset.\n",
    "\n",
    "'''\n",
    "                             Measures of Central Tendency:- \n",
    "                             \n",
    "Central tendency measures provide a way to summarize the center or average of a dataset.\n",
    "\n",
    "Mean:\n",
    "\n",
    "Definition: The arithmetic mean is the sum of all values divided by the number of values.\n",
    "Usage: Provides a balance point or average value of the dataset. It is sensitive to extreme values.\n",
    "Median:\n",
    "\n",
    "Definition: The median is the middle value when the dataset is ordered. If there's an even number of observations, it's the average of the two middle values.\n",
    "Usage: Less sensitive to extreme values than the mean. Represents the center of the distribution.\n",
    "Mode:\n",
    "\n",
    "Definition: The mode is the value that occurs most frequently in the dataset.\n",
    "Usage: Describes the most common value in a dataset.A distribution can be unimodal (one mode), bimodal (two modes), or multimodal (more than two modes).\n",
    "\n",
    "                      Measures of Variability (Dispersion):-\n",
    "                      \n",
    "Variability measures describe the spread or dispersion of values in a dataset.\n",
    "\n",
    "Range:\n",
    "\n",
    "Definition: The range is the difference between the maximum and minimum values in the dataset.\n",
    "Usage: Provides a simple indication of the spread of values but is sensitive to extreme values.\n",
    "Interquartile Range (IQR):\n",
    "\n",
    "Definition: The IQR is the range between the first quartile (Q1) and the third quartile (Q3).\n",
    "Usage: Describes the range of the middle 50% of the data, making it less sensitive to extreme values than the range.\n",
    "Variance:\n",
    "\n",
    "Definition: The variance is the average of the squared differences from the mean.\n",
    "Usage: Provides a measure of how far each data point in the dataset is from the mean, emphasizing deviations from the average.\n",
    "Standard Deviation:\n",
    "\n",
    "Definition: The standard deviation is the square root of the variance.\n",
    "Usage: Indicates the average deviation from the mean. Like the variance, it quantifies the spread of values in the dataset.\n",
    "\n",
    "\n",
    "\n",
    "'''"
   ]
  },
  {
   "cell_type": "code",
   "execution_count": null,
   "id": "d78d153d-9c2b-45bf-a8d0-0594ddbe8729",
   "metadata": {},
   "outputs": [],
   "source": []
  },
  {
   "cell_type": "code",
   "execution_count": null,
   "id": "02fa1b3a-9a0b-48b9-a386-c655059aabb2",
   "metadata": {},
   "outputs": [],
   "source": []
  },
  {
   "cell_type": "code",
   "execution_count": null,
   "id": "68de8559-5777-42ca-b428-e3e6cef9a472",
   "metadata": {},
   "outputs": [],
   "source": []
  },
  {
   "cell_type": "code",
   "execution_count": null,
   "id": "2b1c66ac-7064-4340-b24a-b92f7f5cab73",
   "metadata": {},
   "outputs": [],
   "source": []
  }
 ],
 "metadata": {
  "kernelspec": {
   "display_name": "Python 3 (ipykernel)",
   "language": "python",
   "name": "python3"
  },
  "language_info": {
   "codemirror_mode": {
    "name": "ipython",
    "version": 3
   },
   "file_extension": ".py",
   "mimetype": "text/x-python",
   "name": "python",
   "nbconvert_exporter": "python",
   "pygments_lexer": "ipython3",
   "version": "3.11.4"
  }
 },
 "nbformat": 4,
 "nbformat_minor": 5
}
